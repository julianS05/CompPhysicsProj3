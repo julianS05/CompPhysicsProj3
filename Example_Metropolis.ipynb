{
  "nbformat": 4,
  "nbformat_minor": 0,
  "metadata": {
    "colab": {
      "provenance": []
    },
    "kernelspec": {
      "name": "python3",
      "display_name": "Python 3"
    },
    "language_info": {
      "name": "python"
    }
  },
  "cells": [
    {
      "cell_type": "code",
      "execution_count": 1,
      "metadata": {
        "id": "YUMkVn_Yd0Wx"
      },
      "outputs": [],
      "source": [
        "import numpy as np\n",
        "import matplotlib.pyplot as plt\n",
        "\n",
        "def ising1D(T, N, J, plot_flag):\n",
        "    # Initial configuration\n",
        "    grid = np.sign(0.5 - np.random.rand(N))  # Random initial configuration\n",
        "\n",
        "    # Initiation\n",
        "    t = int(1e4 * N)  # Number of steps\n",
        "    Elist = np.zeros(t)\n",
        "    Mlist = np.zeros(t)\n",
        "    Energy = -J * np.sum(grid * np.roll(grid, 1))  # initial Energy\n",
        "    Magnet = np.sum(grid)  # initial magnetization\n",
        "    trials = np.random.randint(0, N, t)  # cheaper to generate all at once\n",
        "\n",
        "    # Metropolis algorithm\n",
        "    for i in range(t):\n",
        "        s = trials[i]\n",
        "        left = grid[s - 1] if s != 0 else grid[N - 1]\n",
        "        right = grid[s + 1] if s != N - 1 else grid[0]\n",
        "        dE = 2 * J * grid[s] * (left + right)  # change in energy\n",
        "        p = np.exp(-dE / T)\n",
        "\n",
        "        # Acceptance test (including the case dE < 0).\n",
        "        if np.random.rand() <= p:\n",
        "            grid[s] = -grid[s]\n",
        "            Energy += dE\n",
        "            Magnet += 2 * grid[s]\n",
        "\n",
        "        # Update energy and magnetization.\n",
        "        Mlist[i] = Magnet\n",
        "        Elist[i] = Energy\n",
        "\n",
        "        # Refresh display of spin configuration every N trials.\n",
        "        # if i % N == 0 and plot_flag == 1:\n",
        "        #     plt.bar(range(N), grid)\n",
        "        #     plt.draw()\n",
        "        #     plt.pause(0.001)\n",
        "\n",
        "    # Display time series of energy and magnetization\n",
        "    Elist = Elist[Elist != 0]\n",
        "    Mlist = Mlist[Mlist != 0]\n",
        "    Mlist = np.abs(Mlist)\n",
        "    Mlist = Mlist / N\n",
        "    Elist = Elist / N  # normalize.\n",
        "\n",
        "    if plot_flag == 1:\n",
        "        plt.figure()\n",
        "        plt.subplot(2, 1, 1)\n",
        "        plt.plot(Elist)\n",
        "        plt.subplot(2, 1, 2)\n",
        "        plt.plot(Mlist)\n",
        "        plt.show()\n",
        "\n",
        "    # Magnetization and energy density\n",
        "    # Eliminate all configurations before thermalization.\n",
        "    Mlist = Mlist[50 * N:]\n",
        "    Elist = Elist[50 * N:]\n",
        "\n",
        "    # Average over post thermalization configurations.\n",
        "    M = np.sum(Mlist) / len(Mlist)\n",
        "    E = np.sum(Elist) / len(Elist)\n",
        "\n",
        "    return E, M\n",
        "\n"
      ]
    }
  ]
}